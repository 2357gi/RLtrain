{
 "cells": [
  {
   "cell_type": "markdown",
   "metadata": {},
   "source": [
    "# Sarsaによる価値反復法の実装\n",
    "- 価値反復法には報酬の概念が必要。\n",
    "- 時刻tでもらえる報酬を$R_t$とし、**即時報酬**と呼ぶ。\n",
    "- また、今後未来でもらえる報酬の合計を報酬和と呼ぶ\n",
    "$$\n",
    "G_t = R_{t+1} + R_{t+2} + ...\n",
    "$$\n",
    "となる。\n",
    "- また、時間が経つにつれ報酬の価値は低下する必要がある(報酬の価値が時間の経過につれ低下していく)\n",
    "- よって、時間により報酬の低下を加味した報酬和を設定する必要がある。\n",
    "$$\n",
    "G_t = R_{t+1} + γR_{t+2} + γ^{2}R_{t+3} + ...\n",
    "$$"
   ]
  },
  {
   "cell_type": "markdown",
   "metadata": {},
   "source": [
    "### 迷路問題にも価値という概念を実装する"
   ]
  },
  {
   "cell_type": "markdown",
   "metadata": {},
   "source": [
    "現在エージェントがS7にいると仮定し（状態:s = 7）, 行動:a = 右 であればS7→S8と移動することによりゴールすることができる。\n",
    "##### 行動価値関数\n",
    "行動価値関数$Q^π (s, a)$と表される。\n",
    "右へ移動するのはインデックスがa = 1の時なので、\n",
    "$$\n",
    "Q^π (s = 7, a = 1) = R_{t+1} = 1\n",
    "$$\n",
    "となる"
   ]
  },
  {
   "cell_type": "markdown",
   "metadata": {},
   "source": [
    "逆に、a=0,つまりエージェントが上にいく行動をとるときの価値を考えると、そこから最短でゴールするまでS7-S4-S7-S8と2step余計に時間がかかる。\n",
    "つまり、\n",
    "$$\n",
    "Q^π (s = 7, a = 0) = γ^2 * 1\n",
    "$$\n",
    "となる。つまり、時間分だけ割引いた価値がその行動(S7から上に移動する)にはあると考えれる。\n"
   ]
  },
  {
   "cell_type": "markdown",
   "metadata": {},
   "source": [
    "### 状態価値関数\n",
    "**ベルマン方程式をあとでホワイトボードに書きながら分解する!!!**\n",
    "→した\n",
    "![ベルマン方程式](bellman_equation.jpg \"マルコフ決定過程のおまけ付き\")"
   ]
  },
  {
   "cell_type": "markdown",
   "metadata": {},
   "source": [
    "# 価値反復法をSarsaで実装する！\n",
    "今回はQではなくまずはSarsaで。サルサ！"
   ]
  },
  {
   "cell_type": "code",
   "execution_count": 5,
   "metadata": {},
   "outputs": [
    {
     "data": {
      "image/png": "[encoded data removed]",
      "text/plain": [
       "<Figure size 360x360 with 1 Axes>"
      ]
     },
     "metadata": {},
     "output_type": "display_data"
    }
   ],
   "source": [
    "# まずはマップとtheta_0の定義。\n",
    "import numpy as np\n",
    "import matplotlib.pyplot as plt\n",
    "%matplotlib inline\n",
    "\n",
    "# 初期状態での迷路の様子_\n",
    "\n",
    "# 図を描く大きさと、図の変数を宣言。\n",
    "fig = plt.figure(figsize=(5, 5))\n",
    "ax = plt.gca()\n",
    "\n",
    "# make wall\n",
    "plt.plot([1, 1], [0, 1], color='red', linewidth=2)\n",
    "plt.plot([1, 2], [2, 2], color='red', linewidth=2)\n",
    "plt.plot([2, 2], [2, 1], color='red', linewidth=2)\n",
    "plt.plot([2, 3], [1, 1], color='red', linewidth=2)\n",
    "\n",
    "# make points\n",
    "plt.text(0.5, 2.5, 'S0', size=14, ha='center')\n",
    "plt.text(1.5, 2.5, 'S1', size=14, ha='center')\n",
    "plt.text(2.5, 2.5, 'S2', size=14, ha='center')\n",
    "plt.text(0.5, 1.5, 'S3', size=14, ha='center')\n",
    "plt.text(1.5, 1.5, 'S4', size=14, ha='center')\n",
    "plt.text(2.5, 1.5, 'S5', size=14, ha='center')\n",
    "plt.text(0.5, 0.5, 'S6', size=14, ha='center')\n",
    "plt.text(1.5, 0.5, 'S7', size=14, ha='center')\n",
    "plt.text(2.5, 0.5, 'S8', size=14, ha='center')\n",
    "plt.text(0.5, 2.3, 'START', ha='center')\n",
    "plt.text(2.5, 0.3, 'GOAL', ha='center')\n",
    "\n",
    "# 描画範囲の設定とメモリを消す設定\n",
    "ax.set_xlim(0, 3)\n",
    "ax.set_ylim(0, 3)\n",
    "plt.tick_params(axis='both', which='both', bottom='off', top='off',\n",
    "                labelbottom='off', right='off', left='off', labelleft='off')\n",
    "\n",
    "# 現在地に丸を描画する。\n",
    "line, = ax.plot([0.5], [2.5], 'o', color = 'g', markersize=60)\n",
    "\n",
    "# 初期の方策を決定するparams theta_0を設定\n",
    "\n",
    "# 行は0~7, 列は移動方向で上右下左を表す。\n",
    "theta_0 = np.array([[np.nan, 1, 1, np.nan],  \n",
    "                   [np.nan, 1, np.nan, 1],\n",
    "                    [np.nan, np.nan, 1, 1],\n",
    "                   [1, 1, 1, np.nan],        \n",
    "                   [np.nan, np.nan, 1, 1],   \n",
    "                   [1, np.nan, np.nan, np.nan],  \n",
    "                   [1, np.nan, np.nan, np.nan],  \n",
    "                   [1, 1, np.nan, np.nan],       \n",
    "                    ])"
   ]
  },
  {
   "cell_type": "code",
   "execution_count": 6,
   "metadata": {},
   "outputs": [],
   "source": [
    "# 初期の行動価値関数Qを設定。\n",
    "# 最初はランダムでパラメータを定義、theta_0をかけてnanを反映する。\n",
    "\n",
    "[a, b] = theta_0.shape\n",
    "Q = np.random.rand(a, b) * theta_0"
   ]
  },
  {
   "cell_type": "code",
   "execution_count": 7,
   "metadata": {},
   "outputs": [],
   "source": [
    "# 方策パラメータthetaを割合の方策piに変換する関数の定義\n",
    "# 割合にすることで、行動がランダムになる\n",
    "\n",
    "\n",
    "def simple_convert_into_pi_from_theta(theta):\n",
    "    \"\"\"単純に割合を計算する\"\"\"\n",
    "    \n",
    "    [m, n] = theta.shape  # thetaの行列サイズを取得\n",
    "    pi = np.zeros((m, n))\n",
    "    for i in range(0, m):\n",
    "        pi[i, :] = theta[i, :] / np.nansum(theta[i, :])  # 割合の計算\n",
    "    \n",
    "    pi = np.where( np.isnan(pi),0,pi)\n",
    "    \n",
    "    return pi"
   ]
  },
  {
   "cell_type": "code",
   "execution_count": 9,
   "metadata": {},
   "outputs": [],
   "source": [
    "pi_0 = simple_convert_into_pi_from_theta(theta_0)"
   ]
  },
  {
   "cell_type": "code",
   "execution_count": 25,
   "metadata": {},
   "outputs": [
    {
     "name": "stdout",
     "output_type": "stream",
     "text": [
      "[[       nan 0.84547268 0.72229984        nan]\n",
      " [       nan 0.11365251        nan 0.44224128]\n",
      " [       nan        nan 0.78955213 0.35250939]\n",
      " [0.46424529 0.23072386 0.48251884        nan]\n",
      " [       nan        nan 0.94809673 0.48055842]\n",
      " [0.81171535        nan        nan        nan]\n",
      " [0.45109565        nan        nan        nan]\n",
      " [0.26055437 0.88030142        nan        nan]]\n",
      "--------------------\n",
      "hogehoge[       nan 0.11365251        nan 0.44224128]\n",
      "hogehogehoge3\n",
      "--------------------\n",
      "[[0.         0.5        0.5        0.        ]\n",
      " [0.         0.5        0.         0.5       ]\n",
      " [0.         0.         0.5        0.5       ]\n",
      " [0.33333333 0.33333333 0.33333333 0.        ]\n",
      " [0.         0.         0.5        0.5       ]\n",
      " [1.         0.         0.         0.        ]\n",
      " [1.         0.         0.         0.        ]\n",
      " [0.5        0.5        0.         0.        ]]\n"
     ]
    }
   ],
   "source": [
    "print(Q)\n",
    "print('-'*20)\n",
    "print('hogehoge' + str(Q[1,:]))\n",
    "print('hogehogehoge' + str(np.nanargmax(Q[1, :])))\n",
    "print('-'*20)\n",
    "print(pi_0)"
   ]
  },
  {
   "cell_type": "markdown",
   "metadata": {},
   "source": [
    "## ε- greedy法\n",
    "- 一定確率(ε)でランダムに動き、(1-ε)でQの最大値の行動をとる。\n",
    "- これにより、例えば初期段階でのランダムによるゴールで0-1-0-3-4-7-8と行動をとったとすると、\n",
    "一度とった1の行動も有効なものだと捉えられ、1を踏まえた行動をしてしまうことがある。\n",
    "- それを防ぐため、定期的にランダムな行動を行い、最適な行動を探索する。"
   ]
  },
  {
   "cell_type": "code",
   "execution_count": 26,
   "metadata": {},
   "outputs": [],
   "source": [
    "# ε- greedy法を実装\n",
    "def get_action(s, Q, eqsilon, pi_0):\n",
    "    direction = ['up', 'right', 'down', 'left']\n",
    "    \n",
    "    # 行動を決める\n",
    "    if np.random.rand() < epsilon:\n",
    "        # εの確率でランダムに動く\n",
    "        next_direction = np.random.choice(direction, p=pi_0[s, :])\n",
    "    else:\n",
    "        # Qの最大値の行動を採用する\n",
    "        next_direction = direction[np.nanargmax(Q[s, :])]\n",
    "    \n",
    "    if next_direction == 'up':\n",
    "        action = 0\n",
    "    elif next_direction == 'right':\n",
    "        action = 1\n",
    "    elif next_direction == 'down':\n",
    "        action = 2\n",
    "    elif next_direction == 'left':\n",
    "        action = 3\n",
    "        \n",
    "    return action"
   ]
  },
  {
   "cell_type": "code",
   "execution_count": 27,
   "metadata": {},
   "outputs": [],
   "source": [
    "def get_s_next(s, a, Q, epsilon, pi_0):\n",
    "    direction = ['up', 'right', 'down', 'left']\n",
    "    next_direction = direction[a]  # 行動aの方向\n",
    "    \n",
    "    \n",
    "    # 行動から次の状態を決める\n",
    "    if next_direction == 'up':\n",
    "        s_next = s - 3\n",
    "    if next_direction == 'right':\n",
    "        s_next = s + 1\n",
    "    if next_direction == 'down':\n",
    "        s_next = s + 3\n",
    "    if next_direction == 'left':\n",
    "        s_next = s - 1\n",
    "        \n",
    "    return s_next"
   ]
  },
  {
   "cell_type": "code",
   "execution_count": null,
   "metadata": {},
   "outputs": [],
   "source": []
  }
 ],
 "metadata": {
  "kernelspec": {
   "display_name": "Python 3",
   "language": "python",
   "name": "python3"
  },
  "language_info": {
   "codemirror_mode": {
    "name": "ipython",
    "version": 3
   },
   "file_extension": ".py",
   "mimetype": "text/x-python",
   "name": "python",
   "nbconvert_exporter": "python",
   "pygments_lexer": "ipython3",
   "version": "3.7.0"
  }
 },
 "nbformat": 4,
 "nbformat_minor": 2
}
